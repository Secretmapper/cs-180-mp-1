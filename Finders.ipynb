{
 "cells": [
  {
   "cell_type": "markdown",
   "metadata": {},
   "source": [
    "# Finders\n",
    "\n",
    "In this particular project, we are required to implement three search algorithms:\n",
    "    \n",
    "* BFS\n",
    "* DFS\n",
    "* A*\n",
    "\n",
    "## BFS\n",
    "\n",
    "BFS or breadth-first search traverses the graph by exploring all the neighbors of the root of the graph first, and then proceeds to the next depth of the graph until the end is found.\n",
    "\n",
    "Implementing this is simple enough - let us keep a queue, add neighbors to it, and iterate on the queue until we find our target. Notice how our implementation accepts **arbitrary** data structures for the grid/graph by allowing input of a `get_neighbor` function."
   ]
  },
  {
   "cell_type": "code",
   "execution_count": null,
   "metadata": {},
   "outputs": [],
   "source": [
    "def bfs(grid, get_adjacent, start, end):\n",
    "    queue, visited = [start], set()\n",
    "    while queue:\n",
    "        curr = queue.pop(0)\n",
    "        if curr in visited:\n",
    "            continue\n",
    "        visited.add(curr)\n",
    "        for neighbor in get_adjacent(grid, curr):\n",
    "            if neighbor == end:\n",
    "                # found!\n",
    "            else:\n",
    "                queue.append(neighbor)"
   ]
  },
  {
   "cell_type": "markdown",
   "metadata": {},
   "source": [
    "Notice that in our breadth first search, we want to know the path traversed by our algorithm to get to the end. There's a couple of methods to achieve this, but to keep the data structures as simple and pure as possible, I opted to implement a backtrace."
   ]
  },
  {
   "cell_type": "code",
   "execution_count": null,
   "metadata": {},
   "outputs": [],
   "source": [
    "def backtrack(grid, parents, start, end):\n",
    "    path = [end]\n",
    "    while path[-1] != start:\n",
    "        path.append(parents[path[-1]])\n",
    "    path.reverse()\n",
    "    return path\n",
    "\n",
    "def bfs(grid, get_adjacent, start, end):\n",
    "    queue, visited, parents = [start], set(), {}\n",
    "    while queue:\n",
    "        curr = queue.pop(0)\n",
    "        if curr in visited:\n",
    "            continue\n",
    "        visited.add(curr)\n",
    "        for neighbor in get_adjacent(grid, curr):\n",
    "            if neighbor not in visited:\n",
    "                parents[neighbor] = curr\n",
    "            if neighbor == end:\n",
    "                path = backtrack(grid, parents, start, end)\n",
    "\n",
    "                if with_expansion: return path, expansion\n",
    "                else: return path,\n",
    "            else:\n",
    "                queue.append(neighbor)"
   ]
  },
  {
   "cell_type": "markdown",
   "metadata": {},
   "source": [
    "We can also make our algorithm return the list of expanded nodes. This will help us later if we want to see what 'path' the algorithm took to generate the solution."
   ]
  },
  {
   "cell_type": "code",
   "execution_count": 3,
   "metadata": {},
   "outputs": [],
   "source": [
    "def bfs(grid, get_adjacent, start, end, with_expansion=False):\n",
    "    queue, visited, parents = [start], set(), {}\n",
    "    if with_expansion:\n",
    "        expansion = []\n",
    "    while queue:\n",
    "        curr = queue.pop(0)\n",
    "        if curr in visited:\n",
    "            continue\n",
    "        visited.add(curr)\n",
    "        if with_expansion:\n",
    "            expansion.append(curr)\n",
    "        for neighbor in get_adjacent(grid, curr):\n",
    "            if neighbor not in visited:\n",
    "                parents[neighbor] = curr\n",
    "            if neighbor == end:\n",
    "                path = backtrack(grid, parents, start, end)\n",
    "\n",
    "                if with_expansion: return path, expansion\n",
    "                else: return path,\n",
    "            else:\n",
    "                queue.append(neighbor)"
   ]
  },
  {
   "cell_type": "markdown",
   "metadata": {},
   "source": [
    "## DFS\n",
    "\n",
    "DFS or depth-first search traverses the graph by exploring to the end of each branch first.\n",
    "\n",
    "Implementing this takes even less lines of code - we simply keep a stack, and add neighbors of the node there:"
   ]
  },
  {
   "cell_type": "code",
   "execution_count": 4,
   "metadata": {},
   "outputs": [],
   "source": [
    "def dfs(grid, get_adjacent, start, end, with_expansion=False):\n",
    "    stack, visited = [(start, [start])], []\n",
    "    while stack:\n",
    "        curr, path = stack.pop()\n",
    "        if curr == end:\n",
    "            if with_expansion: return path, visited\n",
    "            else: return path,\n",
    "        if curr not in visited:\n",
    "            visited.append(curr)\n",
    "        for neighbor in get_adjacent(grid, curr):\n",
    "            if neighbor not in visited:\n",
    "                stack.append((neighbor, path + [neighbor]))"
   ]
  },
  {
   "cell_type": "markdown",
   "metadata": {},
   "source": [
    "Note that I took the liberty of implementing it with the `path` and `expansion path` taken into account."
   ]
  },
  {
   "cell_type": "markdown",
   "metadata": {},
   "source": [
    "## A*\n",
    "\n",
    "A* is perhaps the most interesting search-algorithm here, being the only informed search algorithm. In A*, we make use of a `heuristic` function that will guide the search.\n",
    "\n",
    "It is a bit longer than the two previous algorithms, but not that much longer.\n",
    "\n",
    "The first thing that is different is that we need two new arguments, `cost` and `heuristic`. `cost` will return the cost to traverse between two nodes, while `heuristic` will serve as the heuristic function for our algorithm. This makes our algorithm more general by supporting different problem spaces.\n",
    "\n",
    "We also add the data structures that we need - in particular, a queue (a priority queue), a set for visited nodes, a map for parents (for backtracking) and a map for `G` and `F`."
   ]
  },
  {
   "cell_type": "code",
   "execution_count": 15,
   "metadata": {},
   "outputs": [],
   "source": [
    "def astar(grid, get_adjacent, start, end, cost, heuristic, with_expansion=False):\n",
    "    queue, visited, parents = set([start]), set(), {}\n",
    "    g_cost, f_cost = {}, {}\n",
    "\n",
    "    g_cost[start] = 0\n",
    "    f_cost[start] = heuristic(start, end)"
   ]
  },
  {
   "cell_type": "markdown",
   "metadata": {},
   "source": [
    "We then take the item in the queue with the lowest cost for `F`"
   ]
  },
  {
   "cell_type": "code",
   "execution_count": 18,
   "metadata": {},
   "outputs": [],
   "source": [
    "def astar_cut(): # not really a function, we just define it as such so jupyter won't run it\n",
    "    while queue:\n",
    "        curr = None\n",
    "        curr_score = None\n",
    "        # TODO: Turn this into a priority queue?\n",
    "        for coord in queue:\n",
    "            if curr == None or f_cost[coord] < curr_score:\n",
    "                curr_score = f_cost[coord]\n",
    "                curr = coord"
   ]
  },
  {
   "cell_type": "markdown",
   "metadata": {},
   "source": [
    "After that, we check if it is the goal. If not, we remove it from the queue and iterate over its neighbors, updating the `parent map`, `f_cost`, and `g_cost` in the process:"
   ]
  },
  {
   "cell_type": "code",
   "execution_count": null,
   "metadata": {},
   "outputs": [],
   "source": [
    "def astar_cut():\n",
    "    for neighbor in get_adjacent(grid, curr):\n",
    "        if neighbor in visited:\n",
    "            continue\n",
    "\n",
    "        g = g_cost[curr] + manhattan_distance(curr, neighbor)\n",
    "\n",
    "        if neighbor not in queue:\n",
    "            queue.add(neighbor)\n",
    "        elif g >= g_cost[neighbor]:\n",
    "            continue\n",
    "\n",
    "        parents[neighbor] = curr\n",
    "        g_cost[neighbor] = g\n",
    "        f_cost[neighbor] = g + heuristic(neighbor, end)"
   ]
  },
  {
   "cell_type": "markdown",
   "metadata": {},
   "source": [
    "This is the whole algorithm defined:"
   ]
  },
  {
   "cell_type": "code",
   "execution_count": 16,
   "metadata": {},
   "outputs": [],
   "source": [
    "def astar(grid, get_adjacent, start, end, cost, heuristic, with_expansion=False):\n",
    "    queue, visited, parents = set([start]), set(), {}\n",
    "    g_cost, f_cost = {}, {}\n",
    "\n",
    "    g_cost[start] = 0\n",
    "    f_cost[start] = heuristic(start, end)\n",
    "\n",
    "    if with_expansion:\n",
    "        expansion = []\n",
    "    while queue:\n",
    "        curr = None\n",
    "        curr_score = None\n",
    "        # TODO: Turn this into a priority queue?\n",
    "        for coord in queue:\n",
    "            if curr == None or f_cost[coord] < curr_score:\n",
    "                curr_score = f_cost[coord]\n",
    "                curr = coord\n",
    "\n",
    "        if curr == end:\n",
    "            path = backtrack(grid, parents, start, end)\n",
    "\n",
    "            if with_expansion: return path, expansion\n",
    "            else: return path,\n",
    "\n",
    "        queue.remove(curr)\n",
    "\n",
    "        if curr in visited:\n",
    "            continue\n",
    "\n",
    "        visited.add(curr)\n",
    "\n",
    "        if with_expansion:\n",
    "            expansion.append(curr)\n",
    "\n",
    "        for neighbor in get_adjacent(grid, curr):\n",
    "            if neighbor in visited:\n",
    "                continue\n",
    "\n",
    "            g = g_cost[curr] + manhattan_distance(curr, neighbor)\n",
    "\n",
    "            if neighbor not in queue:\n",
    "                queue.add(neighbor)\n",
    "            elif g >= g_cost[neighbor]:\n",
    "                continue\n",
    "\n",
    "            parents[neighbor] = curr\n",
    "            g_cost[neighbor] = g\n",
    "            f_cost[neighbor] = g + heuristic(neighbor, end)\n"
   ]
  },
  {
   "cell_type": "markdown",
   "metadata": {},
   "source": [
    "With our generic algorithms defined, we can move on to see how we can use it to [search in our grid](Grid%20Search.ipynb)."
   ]
  }
 ],
 "metadata": {
  "kernelspec": {
   "display_name": "Python 3",
   "language": "python",
   "name": "python3"
  },
  "language_info": {
   "codemirror_mode": {
    "name": "ipython",
    "version": 3
   },
   "file_extension": ".py",
   "mimetype": "text/x-python",
   "name": "python",
   "nbconvert_exporter": "python",
   "pygments_lexer": "ipython3",
   "version": "3.7.2"
  }
 },
 "nbformat": 4,
 "nbformat_minor": 2
}
