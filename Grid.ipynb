{
 "cells": [
  {
   "cell_type": "markdown",
   "metadata": {},
   "source": [
    "# Grid\n",
    "\n",
    "To start off our project, we first need to generate a state space - in particular, a data structure that represents a plane with a bunch of polygons inside.\n",
    "\n",
    "The simplest way to represent this would be to use a binary two-dimensional array. Every element in the array would then have a corresponding 1-to-1 mapping with our plane. We can represent empty (or movable/traversable) spaces as a `1`, and filled (i.e. point/line from a polygon's edge) as a `0`.\n",
    "\n",
    "We can generate such an NxM grid quite easily:"
   ]
  },
  {
   "cell_type": "code",
   "execution_count": 14,
   "metadata": {},
   "outputs": [
    {
     "name": "stdout",
     "output_type": "stream",
     "text": [
      "[[1, 1, 1, 1, 1, 1, 1, 1, 1, 1], [1, 1, 1, 1, 1, 1, 1, 1, 1, 1], [1, 1, 1, 1, 1, 1, 1, 1, 1, 1], [1, 1, 1, 1, 1, 1, 1, 1, 1, 1], [1, 1, 1, 1, 1, 1, 1, 1, 1, 1]]\n"
     ]
    }
   ],
   "source": [
    "def generate(width, height):\n",
    "    return [[1 for i in range(width)] for i in range(height)]\n",
    "    \n",
    "print(generate(10, 5))"
   ]
  },
  {
   "cell_type": "markdown",
   "metadata": {},
   "source": [
    "We can simplify our lives a little bit by using `numpy`. This has the added advantage of having our grid be pretty printed by default:"
   ]
  },
  {
   "cell_type": "code",
   "execution_count": 16,
   "metadata": {},
   "outputs": [
    {
     "name": "stdout",
     "output_type": "stream",
     "text": [
      "[[1 1 1 1 1 1 1 1 1 1]\n",
      " [1 1 1 1 1 1 1 1 1 1]\n",
      " [1 1 1 1 1 1 1 1 1 1]\n",
      " [1 1 1 1 1 1 1 1 1 1]\n",
      " [1 1 1 1 1 1 1 1 1 1]]\n"
     ]
    }
   ],
   "source": [
    "import numpy as np\n",
    "\n",
    "def generate(width=100, height=100):\n",
    "    return np.ones((height, width), dtype=np.uint8)\n",
    "    \n",
    "print(generate(10, 5))"
   ]
  },
  {
   "cell_type": "markdown",
   "metadata": {},
   "source": [
    "The next thing that we need for our grid generator is to be able to represent polygons. Since we'll have polygon vertices as input, and since we would be working on a grid like system, we would need a list of coordinates between two vertices.\n",
    "\n",
    "Handling horizontal and vertical lines is easy, we simply iterate the points along the axis."
   ]
  },
  {
   "cell_type": "code",
   "execution_count": 19,
   "metadata": {},
   "outputs": [
    {
     "name": "stdout",
     "output_type": "stream",
     "text": [
      "[(0, 0), (0, 1), (0, 2), (0, 3), (0, 4), (0, 5)]\n",
      "[(0, 0), (1, 0), (2, 0), (3, 0), (4, 0), (5, 0)]\n"
     ]
    }
   ],
   "source": [
    "def generate_line(p0, p1):\n",
    "    x0, y0 = p0[0], p0[1]\n",
    "    x1, y1 = p1[0], p1[1]\n",
    "    dx, dy = abs(x1 - x0), abs(y1 - y0)\n",
    "    points = []\n",
    "    if dx == 0 or dy == 0:\n",
    "        if dy == 0 and dx == 0:\n",
    "            pass\n",
    "        elif dy == 0:\n",
    "            points = [(x, y0) for x in range(min(x0, x1), max(x0, x1) + 1)]\n",
    "        elif dx == 0:\n",
    "            points = [(x0, y) for y in range(min(y0, y1), max(y0, y1) + 1)]\n",
    "    return points\n",
    "\n",
    "print(generate_line((0, 0), (0, 5)))\n",
    "print(generate_line((0, 0), (5, 0)))"
   ]
  },
  {
   "cell_type": "markdown",
   "metadata": {},
   "source": [
    "Straight, 45 degree angle diagonal lines are also simple enough to implement.\n",
    "\n",
    "Handling lines of arbitrary angles however is a bit more complicated. Astute readers however will notice that we can use a rasterization algorithm to generate the needed coordinates between two points. We can use **Bresenham's line algorithm** for this, and expand our previous algorithm to support arbitrary lines."
   ]
  },
  {
   "cell_type": "code",
   "execution_count": 22,
   "metadata": {},
   "outputs": [
    {
     "name": "stdout",
     "output_type": "stream",
     "text": [
      "[(0, 0), (0, 1), (0, 2), (0, 3)]\n",
      "[(0, 0), (1, 1), (2, 1), (3, 2), (4, 2), (4, 3)]\n"
     ]
    }
   ],
   "source": [
    "def generate_line(p0, p1):\n",
    "    x0, y0 = p0[0], p0[1]\n",
    "    x1, y1 = p1[0], p1[1]\n",
    "    dx, dy = abs(x1 - x0), abs(y1 - y0)\n",
    "    points = []\n",
    "    # handle horiz/vertical line manually\n",
    "    if dx == 0 or dy == 0:\n",
    "        if dy == 0 and dx == 0:\n",
    "            pass\n",
    "        elif dy == 0:\n",
    "            points = [(x, y0) for x in range(min(x0, x1), max(x0, x1) + 1)]\n",
    "        elif dx == 0:\n",
    "            points = [(x0, y) for y in range(min(y0, y1), max(y0, y1) + 1)]\n",
    "    else:\n",
    "        x, y = x0, y0\n",
    "        x_step = -1 if x0 > x1 else 1\n",
    "        y_step = -1 if y0 > y1 else 1\n",
    "        if dx > dy:\n",
    "            err = dx / 2.0\n",
    "            for x in range(x0, x1, x_step):\n",
    "                points.append((x, y))\n",
    "                err -= dy\n",
    "                if err < 0:\n",
    "                    y += y_step\n",
    "                    err += dx\n",
    "        else:\n",
    "            err = dy / 2.0\n",
    "            for y in range(y0, y1, y_step):\n",
    "                points.append((x, y))\n",
    "                err -= dx\n",
    "                if err < 0:\n",
    "                    x += x_step\n",
    "                    err += dy\n",
    "        points.append((x, y))\n",
    "    return points\n",
    "\n",
    "print(generate_line((0, 0), (0, 3)))\n",
    "print(generate_line((0, 0), (5, 3)))"
   ]
  },
  {
   "cell_type": "markdown",
   "metadata": {},
   "source": [
    "Now that we have a `generate_line` utility function, adding polygons to our generated grid is as simple as iterating over polygon vertices and setting the coordinates with the proper data."
   ]
  },
  {
   "cell_type": "code",
   "execution_count": 25,
   "metadata": {},
   "outputs": [
    {
     "name": "stdout",
     "output_type": "stream",
     "text": [
      "[[0 0 0 0 0 0 0 0 0 0]\n",
      " [0 1 1 1 1 1 1 1 1 0]\n",
      " [0 1 1 1 1 1 1 1 1 0]\n",
      " [0 1 1 1 1 1 1 1 1 0]\n",
      " [0 1 1 1 1 1 1 1 1 0]\n",
      " [0 1 1 1 1 1 1 1 1 0]\n",
      " [0 1 1 1 1 1 1 1 1 0]\n",
      " [0 1 1 1 1 1 1 1 1 0]\n",
      " [0 1 1 1 1 1 1 1 1 0]\n",
      " [0 0 0 0 0 0 0 0 0 0]]\n"
     ]
    }
   ],
   "source": [
    "def generate(width=100, height=100, polygons=[]):\n",
    "    grid = np.ones((height, width), dtype=np.uint8)\n",
    "\n",
    "    # make border\n",
    "    add_points(grid, generate_line((0, 0), (width - 1, 0)))\n",
    "    add_points(grid, generate_line((width - 1, 0), (width - 1, height - 1)))\n",
    "    add_points(grid, generate_line((width - 1, height - 1), (0, height - 1)))\n",
    "    add_points(grid, generate_line((0, height - 1), (0, 0)))\n",
    "\n",
    "    for polygon in polygons:\n",
    "        for i, coord in enumerate(polygon):\n",
    "            second_coord = polygon[(i + 1) % len(polygon)]\n",
    "            add_points(grid, generate_line(coord, second_coord))\n",
    "\n",
    "    return np.array(grid, dtype=np.uint8)\n",
    "\n",
    "def add_points(grid, points):\n",
    "    for coord in points:\n",
    "        grid[coord[1]][coord[0]] = 0\n",
    "        \n",
    "print(generate(10, 10))"
   ]
  },
  {
   "cell_type": "markdown",
   "metadata": {},
   "source": [
    "Note how we added a border rectangle for our grid as well.\n",
    "\n",
    "We have now defined a function that will generate the grid from our input. It would be useful to have a couple of utility functions for it. In particular, since we know that our grid needs to be traversed like a graph later on, it would behoove us to implement a utility function that returns adjacent neighbors given a coordinate.\n",
    "\n",
    "Such a function is easy enough to define - we simply iterate over the left, right, up, and down of our coordinate, see if it is still inside the grid, and see if it is `traversable`."
   ]
  },
  {
   "cell_type": "code",
   "execution_count": 27,
   "metadata": {},
   "outputs": [],
   "source": [
    "def find_walkable_neighbors(grid, node):\n",
    "    neighbors = []\n",
    "\n",
    "    if is_valid_neighbor(grid, (node[0] - 1, node[1])):\n",
    "        neighbors.append((node[0] - 1, node[1]))\n",
    "\n",
    "    # [...] do the same for all neighbors, down, left, right\n",
    "\n",
    "    return neighbors\n",
    "\n",
    "def is_valid_neighbor(grid, node):\n",
    "    return is_inside(grid, node) and is_coord_walkable(grid, node)\n",
    "\n",
    "def is_inside(grid, node):\n",
    "    return node[0] >= 0 and node[0] < grid.shape[1] and node[1] >= 0 and node[1] < grid.shape[0]\n",
    "\n",
    "def is_coord_walkable(grid, node):\n",
    "    return grid[node[1], node[0]] == 1"
   ]
  },
  {
   "cell_type": "markdown",
   "metadata": {},
   "source": [
    "With our generator and utility functions implemented, we can move on to implementing our [search algorithms](Finders.ipynb)."
   ]
  }
 ],
 "metadata": {
  "kernelspec": {
   "display_name": "Python 3",
   "language": "python",
   "name": "python3"
  },
  "language_info": {
   "codemirror_mode": {
    "name": "ipython",
    "version": 3
   },
   "file_extension": ".py",
   "mimetype": "text/x-python",
   "name": "python",
   "nbconvert_exporter": "python",
   "pygments_lexer": "ipython3",
   "version": "3.7.2"
  }
 },
 "nbformat": 4,
 "nbformat_minor": 2
}
