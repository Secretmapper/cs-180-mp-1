{
 "cells": [
  {
   "cell_type": "markdown",
   "metadata": {},
   "source": [
    "# CS 180 Artificial Intelligence\n",
    "\n",
    "# Machine Problem 1: Path Planning\n",
    "\n",
    "![Animation](res/cs180.gif)\n",
    "\n",
    "In this machine problem, we are tasked with implementing search algorithms (BFS, DFS, A*) to find the shortest path (any path in the case of DFS) between two points on a plane that has polygonal obstacles.\n",
    "\n",
    "Start off with the [Grid](Grid.ipynb), or alternatively, jump to any of the notebooks in the TOC:\n",
    "\n",
    "## Table of Contents\n",
    "\n",
    "* [Grid](Grid.ipynb)\n",
    "* [Search Algorithms](Finders.ipynb)\n",
    "* [Grid Search](Grid%20Search.ipynb)\n",
    "* [Test Cases](Test%20Cases.ipynb)\n",
    "* [Running Test Cases](Running%20Test%20Cases.ipynb)\n",
    "* [Timing and Conclusions](Timing.ipynb)\n",
    "* [Extra: Viz](Viz.ipynb)\n",
    "\n",
    "## Credits\n",
    "\n",
    "**Group I <3 CS 180**\n",
    "\n",
    "Member/s:\n",
    "* Arian Allenson M. Valdez"
   ]
  },
  {
   "cell_type": "code",
   "execution_count": null,
   "metadata": {},
   "outputs": [],
   "source": []
  }
 ],
 "metadata": {
  "kernelspec": {
   "display_name": "Python 3",
   "language": "python",
   "name": "python3"
  },
  "language_info": {
   "codemirror_mode": {
    "name": "ipython",
    "version": 3
   },
   "file_extension": ".py",
   "mimetype": "text/x-python",
   "name": "python",
   "nbconvert_exporter": "python",
   "pygments_lexer": "ipython3",
   "version": "3.7.2"
  }
 },
 "nbformat": 4,
 "nbformat_minor": 2
}
